{
 "cells": [
  {
   "cell_type": "code",
   "execution_count": 1,
   "metadata": {},
   "outputs": [],
   "source": [
    "from more_itertools import flatten\n",
    "\n",
    "from sphere import spherex\n",
    "import numpy as np\n",
    "# User inputid are: fitness function, lowerbound(lb),upperbound(ub), populatonsize(N_p)\n",
    "#number of iterations(T), scaling factor F, crossover probability(P_c)\n",
    "\n",
    "\n",
    "#problem settings\n",
    "lb = np.array([0,0,0,0,0])\n",
    "ub = np.array([10,10,10,10,10])\n",
    "\n",
    "\n",
    "#Paramaters for Differential Evlution\n",
    "\n",
    "N_p = 5 #Number of population\n",
    "T = 40 #number of iterations\n",
    "P_c = 0.8 #crossover probability\n",
    "F = 0.85 #scaling factor\n",
    "\n",
    "\n"
   ]
  },
  {
   "cell_type": "code",
   "execution_count": 2,
   "metadata": {},
   "outputs": [
    {
     "name": "stdout",
     "output_type": "stream",
     "text": [
      "[[0. 0. 0. 0. 0.]\n",
      " [0. 0. 0. 0. 0.]\n",
      " [0. 0. 0. 0. 0.]\n",
      " [0. 0. 0. 0. 0.]\n",
      " [0. 0. 0. 0. 0.]]\n"
     ]
    }
   ],
   "source": [
    "#Initializing DE\n",
    "f = np.zeros((N_p,1)) #empty vector for fitness function\n",
    "\n",
    "fu = np.zeros((N_p,1))#newly created trial vector\n",
    "\n",
    "D = len(lb) # Determining amount of decision variables\n",
    "\n",
    "U = np.zeros((N_p,D)) #Matrix for storing trial solutions \n",
    "\n",
    "print(U)"
   ]
  },
  {
   "cell_type": "code",
   "execution_count": 3,
   "metadata": {
    "scrolled": true
   },
   "outputs": [
    {
     "name": "stdout",
     "output_type": "stream",
     "text": [
      "[[6.17427314 6.92823906 6.10747374 0.56890515 4.90820247]\n",
      " [6.53092941 9.28098625 1.21725181 8.07540807 1.58754117]\n",
      " [6.42859289 0.46964921 1.06487604 4.99690264 0.0827605 ]\n",
      " [9.0429324  2.95746558 7.5295735  4.80482073 3.08473943]\n",
      " [0.34219217 3.27674059 1.34101407 9.77843969 2.70925968]]\n"
     ]
    }
   ],
   "source": [
    "import numpy.matlib as mat\n",
    "#Initial random population !!!!!MIND THE \"LEN\", I DONT KNOW if that works\"\n",
    "P = mat.repmat(lb,N_p,1)+mat.repmat((ub-lb),N_p,1)*np.random.rand(len(ub-lb),N_p)\n",
    "\n",
    "print(P)"
   ]
  },
  {
   "cell_type": "code",
   "execution_count": 4,
   "metadata": {},
   "outputs": [
    {
     "name": "stdout",
     "output_type": "stream",
     "text": [
      "[[147.83748523]\n",
      " [198.0039492 ]\n",
      " [ 67.65722312]\n",
      " [179.81762574]\n",
      " [115.61041398]]\n"
     ]
    }
   ],
   "source": [
    "#initial fitness function values to f as a vector\n",
    "for p in np.arange(N_p):\n",
    "    f[p]=spherex(P[p,])\n",
    "print(f)"
   ]
  },
  {
   "cell_type": "code",
   "execution_count": 5,
   "metadata": {},
   "outputs": [
    {
     "name": "stdout",
     "output_type": "stream",
     "text": [
      "Final iteration results for P:\n",
      "[[0. 0. 0. 0. 0.]\n",
      " [0. 0. 0. 0. 0.]\n",
      " [0. 0. 0. 0. 0.]\n",
      " [0. 0. 0. 0. 0.]\n",
      " [0. 0. 0. 0. 0.]]\n",
      "Fitness function values[[0.]\n",
      " [0.]\n",
      " [0.]\n",
      " [0.]\n",
      " [0.]]\n",
      "Best fitness function value[0.]\n",
      "Best fitness value location/row 0\n",
      "Best solution [0. 0. 0. 0. 0.]\n"
     ]
    }
   ],
   "source": [
    "#iteration loop\n",
    "for t in np.arange(T):\n",
    "    \n",
    "    for i in np.arange(N_p):\n",
    "        \n",
    "        \n",
    "        \n",
    "        #MUTATION\n",
    "        #candidates are assigned without the i-th element\n",
    "        candidates= np.delete(np.arange(N_p), np.where(np.arange(N_p)==i))\n",
    "        #3 target vectors are picked out randomly for the donorvector generator\n",
    "        cand_rand=np.random.choice(candidates,3,replace= False)\n",
    "        X1=P[cand_rand[0],]\n",
    "        X2=P[cand_rand[1],]\n",
    "        X3=P[cand_rand[2],]\n",
    "        #Donorvctor generator\n",
    "        V= X1 + F*(X2-X3)\n",
    "        \n",
    "        \n",
    "        #Crossover\n",
    "        delta = np.random.randint(0,D-1) \n",
    "        for j in np.arange(D):\n",
    "            if np.random.uniform(0,1) <= P_c or delta == j:\n",
    "                U[i,j] = V[j]\n",
    "            else:\n",
    "                U[i,j]=P[i,j]\n",
    "                \n",
    "        \n",
    "       ##Bounding and Greedy Selection\n",
    "\n",
    "    for j in np.arange(N_p):\n",
    "        U[j]=np.minimum(U[j], ub)\n",
    "        U[j]=np.maximum(U[j], lb)\n",
    "    \n",
    "        fu[j]=spherex(U[j])\n",
    "    \n",
    "        if fu[j] < f[j]:\n",
    "            P[j]= U[j]\n",
    "            f[j]=fu[j]\n",
    " \n",
    "        \n",
    "        \n",
    "        \n",
    "        \n",
    "        \n",
    "        \n",
    "        \n",
    "\n",
    "print(f'Final iteration results for P:\\n{ P}')\n",
    "print(f'Fitness function values{f}')\n",
    "best_of_f= min(f)\n",
    "print(f'Best fitness function value{best_of_f}')\n",
    "print(f'Best fitness value location/row {f.argmin()}')\n",
    "print(f'Best solution {P[f.argmin()]}')"
   ]
  },
  {
   "cell_type": "code",
   "execution_count": 6,
   "metadata": {},
   "outputs": [],
   "source": [
    "#best solution"
   ]
  }
 ],
 "metadata": {
  "kernelspec": {
   "display_name": "Python 3",
   "language": "python",
   "name": "python3"
  },
  "language_info": {
   "codemirror_mode": {
    "name": "ipython",
    "version": 3
   },
   "file_extension": ".py",
   "mimetype": "text/x-python",
   "name": "python",
   "nbconvert_exporter": "python",
   "pygments_lexer": "ipython3",
   "version": "3.7.6"
  }
 },
 "nbformat": 4,
 "nbformat_minor": 4
}
