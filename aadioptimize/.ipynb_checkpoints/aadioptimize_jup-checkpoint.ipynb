{
 "cells": [
  {
   "cell_type": "code",
   "execution_count": 20,
   "metadata": {},
   "outputs": [],
   "source": [
    "from more_itertools import flatten\n",
    "\n",
    "from sphere import spherex\n",
    "import numpy as np\n",
    "# User inputid are: fitness function, lowerbound(lb),upperbound(ub), populatonsize(N_p)\n",
    "#number of iterations(T), scaling factor F, crossover probability(P_c)\n",
    "\n",
    "\n",
    "#problem settings\n",
    "lb = np.array([0,0,0,0,0])\n",
    "ub = np.array([10,10,10,10,10])\n",
    "\n",
    "\n",
    "#Paramaters for Differential Evlution\n",
    "\n",
    "N_p = 5 #Number of population\n",
    "T = 93 #number of iterations\n",
    "P_c = 0.8 #crossover probability\n",
    "F = 0.85 #scaling factor\n",
    "\n",
    "\n"
   ]
  },
  {
   "cell_type": "code",
   "execution_count": 21,
   "metadata": {},
   "outputs": [
    {
     "name": "stdout",
     "output_type": "stream",
     "text": [
      "[[0. 0. 0. 0. 0.]\n",
      " [0. 0. 0. 0. 0.]\n",
      " [0. 0. 0. 0. 0.]\n",
      " [0. 0. 0. 0. 0.]\n",
      " [0. 0. 0. 0. 0.]]\n"
     ]
    }
   ],
   "source": [
    "#Initializing DE\n",
    "f = np.zeros((N_p,1)) #empty vector for fitness function\n",
    "\n",
    "fu = np.zeros((N_p,1))#newly created trial vector\n",
    "\n",
    "D = len(lb) # Determining amount of decision variables\n",
    "\n",
    "U = np.zeros((N_p,D)) #Matrix for storing trial solutions \n",
    "\n",
    "print(U)"
   ]
  },
  {
   "cell_type": "code",
   "execution_count": 22,
   "metadata": {
    "scrolled": true
   },
   "outputs": [
    {
     "name": "stdout",
     "output_type": "stream",
     "text": [
      "[[9.31253071 7.74860361 2.57509656 4.8025126  7.25375969]\n",
      " [0.84968885 8.36258081 3.68402645 9.61106889 8.84553425]\n",
      " [4.64785648 5.10508957 8.83200229 8.11336788 8.24698228]\n",
      " [6.13753439 5.14722002 7.15130708 7.46376648 9.56184284]\n",
      " [9.54903713 6.3070603  8.38830321 3.88612077 7.30100703]]\n"
     ]
    }
   ],
   "source": [
    "import numpy.matlib as mat\n",
    "#Initial random population !!!!!MIND THE \"LEN\", I DONT KNOW if that works\"\n",
    "P = mat.repmat(lb,N_p,1)+mat.repmat((ub-lb),N_p,1)*np.random.rand(len(ub-lb),N_p)\n",
    "\n",
    "print(P)"
   ]
  },
  {
   "cell_type": "code",
   "execution_count": 23,
   "metadata": {
    "scrolled": true
   },
   "outputs": [],
   "source": [
    "#initial fitness function values to f as a vector #1\n",
    "\n",
    "\n",
    "#import numpy as np\n",
    "#for i, p in enumerate(np.arange(N_p)):\n",
    "#        f_p =spherex(P[p,])\n",
    " #       f[i] = f_p\n",
    "#        #print(f_p)\n",
    "#print(f)\n",
    "\n",
    "#print(np.arange(N_p))\n",
    "#print(range(N_p))"
   ]
  },
  {
   "cell_type": "code",
   "execution_count": 24,
   "metadata": {},
   "outputs": [
    {
     "name": "stdout",
     "output_type": "stream",
     "text": [
      "[[229.07636533]\n",
      " [254.84290102]\n",
      " [259.50822885]\n",
      " [262.4410438 ]\n",
      " [269.73338871]]\n"
     ]
    }
   ],
   "source": [
    "#initial fitness function values to f as a vector\n",
    "for p in np.arange(N_p):\n",
    "    f[p]=spherex(P[p,])\n",
    "print(f)\n",
    "#i =1 \n",
    "#print(np.arange(N_p)[0:i-1 and i+1:N_p])\n",
    "#print([i for i in np.arange(N_p) if i==i])\n",
    "\n"
   ]
  },
  {
   "cell_type": "code",
   "execution_count": 46,
   "metadata": {},
   "outputs": [
    {
     "name": "stdout",
     "output_type": "stream",
     "text": [
      "Final iteration results for P:\n",
      "[[0. 0. 0. 0. 0.]\n",
      " [0. 0. 0. 0. 0.]\n",
      " [0. 0. 0. 0. 0.]\n",
      " [0. 0. 0. 0. 0.]\n",
      " [0. 0. 0. 0. 0.]]\n",
      "Fitness function values[[0.]\n",
      " [0.]\n",
      " [0.]\n",
      " [0.]\n",
      " [0.]]\n",
      "Best fitness function value[0.]\n",
      "Best fitness value location/row 0\n",
      "Best solution [0. 0. 0. 0. 0.]\n"
     ]
    }
   ],
   "source": [
    "#iteration loop\n",
    "for t in np.arange(T):\n",
    "    \n",
    "    for i in np.arange(N_p):\n",
    "        \n",
    "        \n",
    "        \n",
    "        #MUTATION\n",
    "        #candidates are assigned without the i-th element\n",
    "        candidates= np.delete(np.arange(N_p), np.where(np.arange(N_p)==i))\n",
    "        #3 target vectors are picked out randomly for the donorvector generator\n",
    "        cand_rand=np.random.choice(candidates,3,replace= False)\n",
    "        X1=P[cand_rand[0],]\n",
    "        X2=P[cand_rand[1],]\n",
    "        X3=P[cand_rand[2],]\n",
    "        #Donorvctor generator\n",
    "        V= X1 + F*(X2-X3)\n",
    "        \n",
    "        \n",
    "        #Crossover\n",
    "        delta = np.random.randint(0,D-1) \n",
    "        for j in np.arange(D):\n",
    "            if np.random.uniform(0,1) <= P_c or delta == j:\n",
    "                U[i,j] = V[j]\n",
    "            else:\n",
    "                U[i,j]=P[i,j]\n",
    "                \n",
    "        \n",
    "       ##Bounding and Greedy Selection\n",
    "\n",
    "    for j in np.arange(N_p):\n",
    "        U[j]=np.minimum(U[j], ub)\n",
    "        U[j]=np.maximum(U[j], lb)\n",
    "    \n",
    "        fu[j]=spherex(U[j])\n",
    "    \n",
    "        if fu[j] < f[j]:\n",
    "            P[j]= U[j]\n",
    "            f[j]=fu[j]\n",
    " \n",
    "        \n",
    "        \n",
    "        \n",
    "        \n",
    "        \n",
    "        \n",
    "        \n",
    "\n",
    "print(f'Final iteration results for P:\\n{ P}')\n",
    "print(f'Fitness function values{f}')\n",
    "best_of_f= min(f)\n",
    "print(f'Best fitness function value{best_of_f}')\n",
    "print(f'Best fitness value location/row {f.argmin()}')\n",
    "print(f'Best solution {P[f.argmin()]}')"
   ]
  },
  {
   "cell_type": "code",
   "execution_count": 32,
   "metadata": {},
   "outputs": [],
   "source": [
    "#best solution"
   ]
  },
  {
   "cell_type": "code",
   "execution_count": 8,
   "metadata": {},
   "outputs": [],
   "source": [
    "##Bounding and Greedy Selection\n",
    "\n",
    "for j in np.arange(N_p):\n",
    "    U[j]=np.minimum(U[j], ub)\n",
    "    U[j]=np.maximum(U[j], lb)\n",
    "    \n",
    "    fu[j]=spherex(U[j])\n",
    "    \n",
    "    if fu[j] < f[j]:\n",
    "        P[j]= U[j]\n",
    "        f[j]=fu[j]\n",
    "\n"
   ]
  },
  {
   "cell_type": "code",
   "execution_count": 9,
   "metadata": {},
   "outputs": [
    {
     "name": "stdout",
     "output_type": "stream",
     "text": [
      "[[0. 0. 0. 0. 0.]\n",
      " [0. 0. 0. 0. 0.]\n",
      " [0. 0. 0. 0. 0.]\n",
      " [0. 0. 0. 0. 0.]\n",
      " [0. 0. 0. 0. 0.]]\n"
     ]
    }
   ],
   "source": [
    "for j in np.arange(N_p):\n",
    "    U[j]=np.minimum(U[j], ub)\n",
    "    U[j]=np.maximum(U[j], lb)\n",
    "    \n",
    "print(U)"
   ]
  },
  {
   "cell_type": "code",
   "execution_count": 10,
   "metadata": {},
   "outputs": [
    {
     "name": "stdout",
     "output_type": "stream",
     "text": [
      "[0. 0. 0. 0. 0.]\n",
      "[0. 0. 0. 0. 0.]\n",
      "[0. 0. 0. 0. 0.]\n",
      "[0. 0. 0. 0. 0.]\n",
      "[0. 0. 0. 0. 0.]\n"
     ]
    }
   ],
   "source": [
    "    for i in np.arange(N_p):\n",
    "         #MUTATION\n",
    "        #candidates are assigned without the i-th element\n",
    "        candidates= np.delete(np.arange(N_p), np.where(np.arange(N_p)==i))\n",
    "        #3 target vectors are picked out randomly for the donorvector generator\n",
    "        cand_rand=np.random.choice(candidates,3,replace= False)\n",
    "        X1=P[cand_rand[0],]\n",
    "        X2=P[cand_rand[1],]\n",
    "        X3=P[cand_rand[2],]\n",
    "        #Donorvctor generator\n",
    "        V= X1 + F*(X2-X3)\n",
    "        #Crossover\n",
    "        print(V)\n",
    "        "
   ]
  },
  {
   "cell_type": "code",
   "execution_count": 11,
   "metadata": {},
   "outputs": [],
   "source": [
    "#delta = np.random.randint(0,D-1)\n",
    "#print(delta)\n",
    "#print(np.arange(D))"
   ]
  },
  {
   "cell_type": "code",
   "execution_count": 12,
   "metadata": {},
   "outputs": [
    {
     "name": "stdout",
     "output_type": "stream",
     "text": [
      "[[0. 0. 0. 0. 0.]\n",
      " [0. 0. 0. 0. 0.]\n",
      " [0. 0. 0. 0. 0.]\n",
      " [0. 0. 0. 0. 0.]\n",
      " [0. 0. 0. 0. 0.]]\n",
      "[0. 0. 0. 0. 0.]\n",
      "[[0. 0. 0. 0. 0.]\n",
      " [0. 0. 0. 0. 0.]\n",
      " [0. 0. 0. 0. 0.]\n",
      " [0. 0. 0. 0. 0.]\n",
      " [0. 0. 0. 0. 0.]]\n"
     ]
    }
   ],
   "source": [
    "#Crossover\n",
    "delta = np.random.randint(0,D-1) \n",
    "for j in np.arange(D):\n",
    "    if np.random.uniform(0,1) <= P_c or delta == j:\n",
    "        U[i,j] = V[j]\n",
    "    else:\n",
    "        U[i,j]=P[i,j]\n",
    "        \n",
    "    \n",
    "\n",
    "print(P)\n",
    "print(V)\n",
    "print(U)"
   ]
  },
  {
   "cell_type": "code",
   "execution_count": 13,
   "metadata": {},
   "outputs": [
    {
     "name": "stdout",
     "output_type": "stream",
     "text": [
      "0.0\n"
     ]
    }
   ],
   "source": [
    "print(P[2,3])"
   ]
  },
  {
   "cell_type": "code",
   "execution_count": null,
   "metadata": {},
   "outputs": [],
   "source": []
  },
  {
   "cell_type": "code",
   "execution_count": null,
   "metadata": {},
   "outputs": [],
   "source": []
  }
 ],
 "metadata": {
  "kernelspec": {
   "display_name": "Python 3",
   "language": "python",
   "name": "python3"
  },
  "language_info": {
   "codemirror_mode": {
    "name": "ipython",
    "version": 3
   },
   "file_extension": ".py",
   "mimetype": "text/x-python",
   "name": "python",
   "nbconvert_exporter": "python",
   "pygments_lexer": "ipython3",
   "version": "3.7.6"
  }
 },
 "nbformat": 4,
 "nbformat_minor": 4
}
