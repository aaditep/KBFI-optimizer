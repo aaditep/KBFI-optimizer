{
 "cells": [
  {
   "cell_type": "code",
   "execution_count": 50,
   "metadata": {},
   "outputs": [
    {
     "name": "stdout",
     "output_type": "stream",
     "text": [
      "[[2.42683485e+00]\n",
      " [1.16984551e+05]\n",
      " [2.94556971e+03]\n",
      " [2.78432916e+02]\n",
      " [3.68270056e+04]]\n",
      "Final iteration results for P:\n",
      "[[ 2.99999998  0.5         4.49944213 -3.16686453  4.00067003]\n",
      " [ 2.99999998  0.5         4.49943996 -3.16686453  3.97993649]\n",
      " [ 2.99999998  0.5         4.49944276 -3.16686453  3.95216367]\n",
      " [ 2.99999998  0.5         4.4994401  -3.16686453  3.96157383]\n",
      " [ 2.99999998  0.5         4.4994387  -3.16686453  3.97547218]]\n",
      "Fitness function values \n",
      "[[4.50503072e-17]\n",
      " [4.50503072e-17]\n",
      " [4.50503072e-17]\n",
      " [4.50503072e-17]\n",
      " [4.50503072e-17]]\n",
      "Best fitness function value[4.50503072e-17]\n",
      "Best fitness value location/row 0\n",
      "Best solution [ 2.99999998  0.5         4.49944213 -3.16686453  4.00067003]\n"
     ]
    }
   ],
   "source": [
    "import numpy.matlib as mat\n",
    "#from sphere import spherex\n",
    "#from rastrigin import rastrig\n",
    "import numpy as np\n",
    "#from rosenbrockmat import rosenbrock\n",
    "#from shaffer import shaffer\n",
    "from kenny import kenny\n",
    "from rosenbrock import rosenbrock\n",
    "from Beale import beale\n",
    "# User inputid are: fitness function, lowerbound(lb),upperbound(ub), populatonsize(N_p)\n",
    "#number of iterations(T), scaling factor F, crossover probability(P_c)\n",
    "\n",
    "\n",
    "#problem settings\n",
    "lb = np.full(5,-4.5) #generates column of n bounds(nr. of rows, bound)\n",
    "ub = np.full(5,4.5)\n",
    "\n",
    "\n",
    "#Paramaters for Differential Evlution\n",
    "\n",
    "N_p = 5 #Number of population\n",
    "T = 500 #number of iterations\n",
    "#P_c = 0.5 #crossover probability\n",
    "F = 0.85 #scaling factor\n",
    "\n",
    "\n",
    "#Paramaters for adaptive  Scaling FACTOR F\n",
    "F_min=0.5\n",
    "F_max=1\n",
    "F_0=F_min\n",
    "\n",
    "#Paramaters for adaptive P_c\n",
    "\n",
    "P_c_min=0.5\n",
    "P_c_max=1\n",
    "\n",
    "\n",
    "\n",
    "#Initializing DE\n",
    "f = np.zeros((N_p,1)) #empty vector for fitness function\n",
    "\n",
    "fu = np.zeros((N_p,1))#newly created trial vector\n",
    "\n",
    "D = len(lb) # Determining amount of decision variables\n",
    "\n",
    "U = np.zeros((N_p,D)) #Matrix for storing trial solutions \n",
    "\n",
    "#Initial random population !!!!!MIND THE \"LEN\", I DONT KNOW if that works\"\n",
    "P = mat.repmat(lb,N_p,1)+mat.repmat((ub-lb),N_p,1)*np.random.rand(len(ub-lb),N_p)\n",
    "\n",
    "#initial fitness function values to f as a vector\n",
    "for p in np.arange(N_p):\n",
    "    f[p]=beale(P[p,])\n",
    "print(f)\n",
    "\n",
    "\n",
    "\n",
    "#iteration loop\n",
    "for t in np.arange(T):\n",
    "    #ADAPTIVE SCALING FACTOR***\n",
    "    F=F_0*2**np.exp(1-(T/(T+1-t)))\n",
    "    for i in np.arange(N_p):\n",
    "        \n",
    "        \n",
    "        \n",
    "        \n",
    "        #print(t) #TRACKING\n",
    "        #MUTATION\n",
    "        #candidates are assigned without the i-th element\n",
    "        candidates= np.delete(np.arange(N_p), np.where(np.arange(N_p)==i))\n",
    "        #3 target vectors are picked out randomly for the donorvector generator\n",
    "        cand_rand=np.random.choice(candidates,3,replace= False)\n",
    "        X1=P[cand_rand[0],]\n",
    "        X2=P[cand_rand[1],]\n",
    "        X3=P[cand_rand[2],]\n",
    "        \n",
    "        #Donorvctor generator\n",
    "        V= X1 + F*(X2-X3)\n",
    "        \n",
    "        \n",
    "        \n",
    "        \n",
    "        #Crossover\n",
    "        #ADAPTIVE Crossover\n",
    "        if f[i] < np.mean(f):\n",
    "            P_c = P_c_min + (P_c_max-P_c_min)*((f[i]-np.mean(f))/(P_c_max-np.mean(f)))\n",
    "        else:\n",
    "            P_c = P_c_min\n",
    "        \n",
    "        delta = np.random.randint(0,D-1) \n",
    "        for j in np.arange(D):\n",
    "            if np.random.uniform(0,1) <= P_c or delta == j:\n",
    "                U[i,j] = V[j]\n",
    "            else:\n",
    "                U[i,j]=P[i,j]\n",
    "                \n",
    "        \n",
    "        #Bounding and Greedy Selection\n",
    "\n",
    "    for j in np.arange(N_p):\n",
    "        U[j]=np.minimum(U[j], ub)\n",
    "        U[j]=np.maximum(U[j], lb)\n",
    "    \n",
    "        fu[j]=beale(U[j])\n",
    "    \n",
    "        if fu[j] < f[j]:\n",
    "            P[j]= U[j]\n",
    "            f[j]=fu[j]\n",
    " \n",
    "\n",
    "\n",
    "\n",
    "print(f'Final iteration results for P:\\n{ P}')\n",
    "print(f'Fitness function values \\n{f}')\n",
    "best_of_f= min(f)\n",
    "print(f'Best fitness function value{best_of_f}')\n",
    "print(f'Best fitness value location/row {f.argmin()}')\n",
    "print(f'Best solution {P[f.argmin()]}')"
   ]
  },
  {
   "cell_type": "code",
   "execution_count": 28,
   "metadata": {},
   "outputs": [
    {
     "name": "stdout",
     "output_type": "stream",
     "text": [
      "0.5123354793748277\n"
     ]
    }
   ],
   "source": [
    "#ADAPTIVE SCALINNG FACTOR\n",
    "T=100\n",
    "t=78\n",
    "F_min=0.5\n",
    "F_max=1\n",
    "F_0=F_min\n",
    "F=F_0*2**np.exp(1-(T/(T+1-t)))\n",
    "print(F)"
   ]
  },
  {
   "cell_type": "code",
   "execution_count": 3,
   "metadata": {},
   "outputs": [
    {
     "name": "stdout",
     "output_type": "stream",
     "text": [
      "-98.12670270278602\n"
     ]
    }
   ],
   "source": [
    "print(np.mean(f))"
   ]
  },
  {
   "cell_type": "code",
   "execution_count": null,
   "metadata": {},
   "outputs": [],
   "source": []
  }
 ],
 "metadata": {
  "kernelspec": {
   "display_name": "Python 3",
   "language": "python",
   "name": "python3"
  },
  "language_info": {
   "codemirror_mode": {
    "name": "ipython",
    "version": 3
   },
   "file_extension": ".py",
   "mimetype": "text/x-python",
   "name": "python",
   "nbconvert_exporter": "python",
   "pygments_lexer": "ipython3",
   "version": "3.7.6"
  }
 },
 "nbformat": 4,
 "nbformat_minor": 4
}
