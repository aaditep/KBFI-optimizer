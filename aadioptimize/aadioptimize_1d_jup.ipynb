{
 "cells": [
  {
   "cell_type": "code",
   "execution_count": 8,
   "metadata": {},
   "outputs": [],
   "source": [
    "from more_itertools import flatten\n",
    "\n",
    "from sphere import spherex\n",
    "import numpy as np\n",
    "# User inputid are: fitness function, lowerbound(lb),upperbound(ub), populatonsize(N_p)\n",
    "#number of iterations(T), scaling factor F, crossover probability(P_c)\n",
    "\n",
    "\n",
    "#problem settings\n",
    "lb = np.array(np.full(5,0))\n",
    "ub = np.array(np.full(5,0))\n",
    "\n",
    "\n",
    "#Paramaters for Differential Evlution\n",
    "\n",
    "N_p = 5 #Number of population\n",
    "T = 100 #number of iterations\n",
    "P_c = 0.8 #crossover probability\n",
    "F = 0.85 #scaling factor\n",
    "\n",
    "\n"
   ]
  },
  {
   "cell_type": "code",
   "execution_count": 9,
   "metadata": {},
   "outputs": [
    {
     "name": "stdout",
     "output_type": "stream",
     "text": [
      "[[0. 0. 0. 0. 0.]\n",
      " [0. 0. 0. 0. 0.]\n",
      " [0. 0. 0. 0. 0.]\n",
      " [0. 0. 0. 0. 0.]\n",
      " [0. 0. 0. 0. 0.]]\n"
     ]
    }
   ],
   "source": [
    "#Initializing DE\n",
    "f = np.zeros((N_p,1)) #empty vector for fitness function\n",
    "\n",
    "fu = np.zeros((N_p,1))#newly created trial vector\n",
    "\n",
    "D = len(lb) # Determining amount of decision variables\n",
    "\n",
    "U = np.zeros((N_p,D)) #Matrix for storing trial solutions \n",
    "\n",
    "print(U)"
   ]
  },
  {
   "cell_type": "code",
   "execution_count": 10,
   "metadata": {
    "scrolled": true
   },
   "outputs": [
    {
     "name": "stdout",
     "output_type": "stream",
     "text": [
      "[[0. 0. 0. 0. 0.]\n",
      " [0. 0. 0. 0. 0.]\n",
      " [0. 0. 0. 0. 0.]\n",
      " [0. 0. 0. 0. 0.]\n",
      " [0. 0. 0. 0. 0.]]\n"
     ]
    }
   ],
   "source": [
    "import numpy.matlib as mat\n",
    "#Initial random population !!!!!MIND THE \"LEN\", I DONT KNOW if that works\"\n",
    "P = mat.repmat(lb,N_p,1)+mat.repmat((ub-lb),N_p,1)*np.random.rand(len(ub-lb),N_p)\n",
    "\n",
    "print(P)"
   ]
  },
  {
   "cell_type": "code",
   "execution_count": 11,
   "metadata": {},
   "outputs": [
    {
     "name": "stdout",
     "output_type": "stream",
     "text": [
      "[[0.]\n",
      " [0.]\n",
      " [0.]\n",
      " [0.]\n",
      " [0.]]\n"
     ]
    }
   ],
   "source": [
    "#initial fitness function values to f as a vector\n",
    "for p in np.arange(N_p):\n",
    "    f[p]=spherex(P[p,])\n",
    "print(f)"
   ]
  },
  {
   "cell_type": "code",
   "execution_count": 12,
   "metadata": {},
   "outputs": [
    {
     "name": "stdout",
     "output_type": "stream",
     "text": [
      "Final iteration results for P:\n",
      "[[0. 0. 0. 0. 0.]\n",
      " [0. 0. 0. 0. 0.]\n",
      " [0. 0. 0. 0. 0.]\n",
      " [0. 0. 0. 0. 0.]\n",
      " [0. 0. 0. 0. 0.]]\n",
      "Fitness function values \n",
      " [[0.]\n",
      " [0.]\n",
      " [0.]\n",
      " [0.]\n",
      " [0.]]\n",
      "Best fitness function value[0.]\n",
      "Best fitness value location/row 0\n",
      "Best solution [0. 0. 0. 0. 0.]\n"
     ]
    }
   ],
   "source": [
    "#iteration loop\n",
    "for t in np.arange(T):\n",
    "    \n",
    "    for i in np.arange(N_p):\n",
    "        \n",
    "        \n",
    "        \n",
    "        #MUTATION\n",
    "        #candidates are assigned without the i-th element\n",
    "        candidates= np.delete(np.arange(N_p), np.where(np.arange(N_p)==i))\n",
    "        #3 target vectors are picked out randomly for the donorvector generator\n",
    "        cand_rand=np.random.choice(candidates,3,replace= False)\n",
    "        X1=P[cand_rand[0],]\n",
    "        X2=P[cand_rand[1],]\n",
    "        X3=P[cand_rand[2],]\n",
    "        #Donorvctor generator\n",
    "        V= X1 + F*(X2-X3)\n",
    "        \n",
    "        \n",
    "        #Crossover\n",
    "        delta = np.random.randint(0,D-1) \n",
    "        for j in np.arange(D):\n",
    "            if np.random.uniform(0,1) <= P_c or delta == j:\n",
    "                U[i,j] = V[j]\n",
    "            else:\n",
    "                U[i,j]=P[i,j]\n",
    "                \n",
    "        \n",
    "       ##Bounding and Greedy Selection\n",
    "\n",
    "    for j in np.arange(N_p):\n",
    "        U[j]=np.minimum(U[j], ub)\n",
    "        U[j]=np.maximum(U[j], lb)\n",
    "    \n",
    "        fu[j]=spherex(U[j])\n",
    "    \n",
    "        if fu[j] < f[j]:\n",
    "            P[j]= U[j]\n",
    "            f[j]=fu[j]\n",
    " \n",
    "        \n",
    "        \n",
    "        \n",
    "        \n",
    "        \n",
    "        \n",
    "        \n",
    "\n",
    "print(f'Final iteration results for P:\\n{ P}')\n",
    "print(f'Fitness function values \\n {f}')\n",
    "best_of_f= min(f)\n",
    "print(f'Best fitness function value{best_of_f}')\n",
    "print(f'Best fitness value location/row {f.argmin()}')\n",
    "print(f'Best solution {P[f.argmin()]}')"
   ]
  },
  {
   "cell_type": "code",
   "execution_count": 13,
   "metadata": {},
   "outputs": [],
   "source": [
    "#best solution"
   ]
  },
  {
   "cell_type": "code",
   "execution_count": 7,
   "metadata": {},
   "outputs": [
    {
     "name": "stdout",
     "output_type": "stream",
     "text": [
      "[0 0 0 0 0]\n"
     ]
    }
   ],
   "source": [
    "print(np.full(5,0))"
   ]
  },
  {
   "cell_type": "code",
   "execution_count": null,
   "metadata": {},
   "outputs": [],
   "source": []
  }
 ],
 "metadata": {
  "kernelspec": {
   "display_name": "Python 3",
   "language": "python",
   "name": "python3"
  },
  "language_info": {
   "codemirror_mode": {
    "name": "ipython",
    "version": 3
   },
   "file_extension": ".py",
   "mimetype": "text/x-python",
   "name": "python",
   "nbconvert_exporter": "python",
   "pygments_lexer": "ipython3",
   "version": "3.7.6"
  }
 },
 "nbformat": 4,
 "nbformat_minor": 4
}
